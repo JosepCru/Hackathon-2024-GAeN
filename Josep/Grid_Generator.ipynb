{
 "cells": [
  {
   "cell_type": "code",
   "execution_count": 3,
   "metadata": {},
   "outputs": [],
   "source": [
    "import numpy as np\n",
    "import matplotlib.pyplot as plt"
   ]
  },
  {
   "cell_type": "code",
   "execution_count": 3,
   "metadata": {},
   "outputs": [
    {
     "name": "stdout",
     "output_type": "stream",
     "text": [
      "1 2\n",
      "2 2\n",
      "2 1\n",
      "1 1\n",
      "0 1\n",
      "0 2\n",
      "0 3\n",
      "1 3\n",
      "2 3\n",
      "3 3\n",
      "3 2\n",
      "3 1\n",
      "3 0\n",
      "2 0\n",
      "1 0\n",
      "0 0\n",
      "-1 0\n",
      "-1 1\n",
      "-1 2\n",
      "-1 3\n"
     ]
    },
    {
     "data": {
      "image/png": "[encoded data removed]",
      "text/plain": [
       "<Figure size 640x480 with 1 Axes>"
      ]
     },
     "metadata": {},
     "output_type": "display_data"
    }
   ],
   "source": [
    "def build_spiral_small(num_cells_x, num_cells_y, start_x, start_y):\n",
    "    \n",
    "    grid_array = np.zeros((num_cells_y, num_cells_x), dtype=int)\n",
    "    \n",
    "    directions = [(1, 0), (0, -1), (-1, 0), (0, 1)] \n",
    "    direction_index = 0\n",
    "\n",
    "    x, y = start_x, start_y\n",
    "    cell_id = 1\n",
    "    step_size = 1 \n",
    "    steps_taken = 0\n",
    "    direction_changes = 0  \n",
    "    num_total = num_cells_x * num_cells_y\n",
    "\n",
    "    while cell_id <= num_total:\n",
    "        grid_array[y, x] = cell_id\n",
    "        cell_id += 1\n",
    "        \n",
    "        print(x,y)\n",
    "        dx, dy = directions[direction_index]\n",
    "        x += dx\n",
    "        y += dy\n",
    "        steps_taken += 1\n",
    "\n",
    "        if steps_taken == step_size:\n",
    "            steps_taken = 0\n",
    "            direction_index = (direction_index + 1) % 4\n",
    "            direction_changes += 1\n",
    "\n",
    "            if direction_changes % 2 == 0:\n",
    "                step_size += 1\n",
    "\n",
    "    return grid_array\n",
    "\n",
    "num_cells_x = 5\n",
    "num_cells_y = 4\n",
    "\n",
    "start_x = round(num_cells_x / 2) - 1\n",
    "start_y = num_cells_y // 2 \n",
    "\n",
    "spiral_image = build_spiral_small(num_cells_x, num_cells_y, start_x, start_y)\n",
    "\n",
    "plt.imshow(spiral_image, cmap='gray')\n",
    "plt.show()"
   ]
  },
  {
   "cell_type": "code",
   "execution_count": 33,
   "metadata": {},
   "outputs": [
    {
     "name": "stdout",
     "output_type": "stream",
     "text": [
      "[np.int64(5), np.int64(4), np.int64(3), np.int64(12), np.int64(6), np.int64(1), np.int64(2), np.int64(11), np.int64(7), np.int64(8), np.int64(9), np.int64(10)]\n",
      "[(0, 0), (0, 1024), (0, 2048), (0, 3072), (1024, 0), (1024, 1024), (1024, 2048), (1024, 3072), (2048, 0), (2048, 1024), (2048, 2048), (2048, 3072)]\n",
      "[(1024, 1024), (1024, 2048), (0, 2048), (0, 1024), (0, 0), (1024, 0), (2048, 0), (2048, 1024), (2048, 2048), (2048, 3072), (1024, 3072), (0, 3072)]\n"
     ]
    },
    {
     "data": {
      "image/png": "[encoded data removed]",
      "text/plain": [
       "<Figure size 640x480 with 1 Axes>"
      ]
     },
     "metadata": {},
     "output_type": "display_data"
    }
   ],
   "source": [
    "def build_spiral_big(num_cells_x, num_cells_y, start_x, start_y, cell_size=4096):\n",
    "    \n",
    "    coord_desordenado = []\n",
    "    lista_id = []\n",
    "    coord_ordenado = []\n",
    "\n",
    "    grid_array = np.zeros((num_cells_y, num_cells_x), dtype=int)\n",
    "    \n",
    "    directions = [(1, 0), (0, -1), (-1, 0), (0, 1)] \n",
    "    direction_index = 0\n",
    "\n",
    "    x, y = start_x, start_y\n",
    "    cell_id = 1\n",
    "    step_size = 1 \n",
    "    steps_taken = 0\n",
    "    direction_changes = 0  \n",
    "    num_total = num_cells_x * num_cells_y\n",
    "\n",
    "    while cell_id <= num_total:\n",
    "        grid_array[y, x] = cell_id\n",
    "        cell_id += 1\n",
    "        \n",
    "        dx, dy = directions[direction_index]\n",
    "        x += dx\n",
    "        y += dy\n",
    "        steps_taken += 1\n",
    "\n",
    "        if steps_taken == step_size:\n",
    "            steps_taken = 0\n",
    "            direction_index = (direction_index + 1) % 4\n",
    "            direction_changes += 1\n",
    "\n",
    "            if direction_changes % 2 == 0:\n",
    "                step_size += 1\n",
    "\n",
    "    image_height = num_cells_y * cell_size\n",
    "    image_width = num_cells_x * cell_size\n",
    "    image = np.zeros((image_height, image_width), dtype=int)\n",
    "\n",
    "    for i in range(num_cells_y):\n",
    "        for j in range(num_cells_x):\n",
    "            cell_value = grid_array[i, j]\n",
    "            lista_id.append(cell_value)\n",
    "            y_start, y_end = i * cell_size, (i + 1) * cell_size\n",
    "            x_start, x_end = j * cell_size, (j + 1) * cell_size\n",
    "            image[y_start:y_end, x_start:x_end] = cell_value\n",
    "            coord_desordenado.append((y_start, x_start))\n",
    "\n",
    "    coord_ordenado = [coord_desordenado[id_ - 1] for id_ in lista_id]\n",
    "    coord_ordenado = [coord_desordenado[lista_id.index(i)] for i in range(1, len(coord_desordenado) + 1)]\n",
    "\n",
    "    print(lista_id)\n",
    "    print(coord_desordenado)\n",
    "    print(coord_ordenado)\n",
    "\n",
    "    return image, coord_desordenado\n",
    "\n",
    "\n",
    "\n",
    "num_cells_x = 4  \n",
    "num_cells_y = 3 \n",
    "cell_size = 1024 \n",
    "start_x = round(num_cells_x / 2) - 1\n",
    "start_y = num_cells_y // 2 \n",
    "\n",
    "spiral_image, grid_coordinates = build_spiral_big(num_cells_x, num_cells_y, start_x, start_y, cell_size)\n",
    "\n",
    "plt.imshow(spiral_image, cmap='gray')\n",
    "plt.show()"
   ]
  }
 ],
 "metadata": {
  "kernelspec": {
   "display_name": "hackathon",
   "language": "python",
   "name": "python3"
  },
  "language_info": {
   "codemirror_mode": {
    "name": "ipython",
    "version": 3
   },
   "file_extension": ".py",
   "mimetype": "text/x-python",
   "name": "python",
   "nbconvert_exporter": "python",
   "pygments_lexer": "ipython3",
   "version": "3.9.0"
  }
 },
 "nbformat": 4,
 "nbformat_minor": 2
}
