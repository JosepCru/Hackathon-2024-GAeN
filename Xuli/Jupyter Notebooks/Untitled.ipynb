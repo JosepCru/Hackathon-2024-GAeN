{
 "cells": [
  {
   "cell_type": "code",
   "execution_count": 8,
   "id": "91ddeac3-87dc-447c-8c00-ccd19e130833",
   "metadata": {},
   "outputs": [],
   "source": [
    "from PIL import Image\n",
    "import numpy as np\n",
    "import matplotlib.pyplot as plt\n",
    "import os\n",
    "from tqdm.notebook import tqdm\n",
    "%matplotlib qt"
   ]
  },
  {
   "cell_type": "code",
   "execution_count": 33,
   "id": "73435b91-6ef8-4562-8cb9-25accfe82f8e",
   "metadata": {},
   "outputs": [],
   "source": [
    "path = r'C:\\Users\\xchen\\Projects\\Hackathon\\Hackathon-2024-GAeN\\Jovan\\imagenes\\imagenes_con_ruido\\imagen_61_n7.png'"
   ]
  },
  {
   "cell_type": "code",
   "execution_count": 34,
   "id": "21105b95-170f-496a-99bd-3d5a741bc3ef",
   "metadata": {},
   "outputs": [
    {
     "data": {
      "text/plain": [
       "<matplotlib.image.AxesImage at 0x1f3fd810ac0>"
      ]
     },
     "execution_count": 34,
     "metadata": {},
     "output_type": "execute_result"
    }
   ],
   "source": [
    "image = np.array(Image.open(path))\n",
    "plt.imshow(image)"
   ]
  },
  {
   "cell_type": "code",
   "execution_count": 17,
   "id": "c5b52a44-14f0-4688-a998-75b99ea84175",
   "metadata": {},
   "outputs": [],
   "source": [
    "a = np.array ([[1,2] , [3,2]])\n",
    "id_not_visited = np.array([0, 1, 2])\n",
    "\n",
    "id_visited = list(set(a.flatten()))\n",
    "id_not_visited = id_not_visited[~np.isin(id_not_visited, id_visited)]"
   ]
  },
  {
   "cell_type": "code",
   "execution_count": 18,
   "id": "089af0ec-4270-482e-9ed5-4b8809e916e1",
   "metadata": {},
   "outputs": [
    {
     "data": {
      "text/plain": [
       "[1, 2, 3]"
      ]
     },
     "execution_count": 18,
     "metadata": {},
     "output_type": "execute_result"
    }
   ],
   "source": [
    "id_visited"
   ]
  },
  {
   "cell_type": "code",
   "execution_count": 19,
   "id": "13fb7bd2-522c-4271-82f5-a51b76b9909d",
   "metadata": {},
   "outputs": [
    {
     "data": {
      "text/plain": [
       "array([0])"
      ]
     },
     "execution_count": 19,
     "metadata": {},
     "output_type": "execute_result"
    }
   ],
   "source": [
    "id_not_visited"
   ]
  },
  {
   "cell_type": "code",
   "execution_count": null,
   "id": "eea4d0c4-acd9-4510-89a5-07281ad22362",
   "metadata": {},
   "outputs": [],
   "source": []
  }
 ],
 "metadata": {
  "kernelspec": {
   "display_name": "Python 3 (ipykernel)",
   "language": "python",
   "name": "python3"
  },
  "language_info": {
   "codemirror_mode": {
    "name": "ipython",
    "version": 3
   },
   "file_extension": ".py",
   "mimetype": "text/x-python",
   "name": "python",
   "nbconvert_exporter": "python",
   "pygments_lexer": "ipython3",
   "version": "3.9.19"
  }
 },
 "nbformat": 4,
 "nbformat_minor": 5
}
