{
 "cells": [
  {
   "cell_type": "code",
   "execution_count": 16,
   "id": "91ddeac3-87dc-447c-8c00-ccd19e130833",
   "metadata": {},
   "outputs": [],
   "source": [
    "from PIL import Image\n",
    "import numpy as np\n",
    "import matplotlib.pyplot as plt\n",
    "import os\n",
    "from tqdm.notebook import tqdm\n",
    "%matplotlib qt"
   ]
  },
  {
   "cell_type": "code",
   "execution_count": 23,
   "id": "73435b91-6ef8-4562-8cb9-25accfe82f8e",
   "metadata": {},
   "outputs": [],
   "source": [
    "path = r'C:\\Users\\xchen\\Projects\\Hackathon\\Hackathon-2024-GAeN\\Jovan\\imagenes\\imagenes_con_ruido\\imagen_11_n6.png'"
   ]
  },
  {
   "cell_type": "code",
   "execution_count": 24,
   "id": "21105b95-170f-496a-99bd-3d5a741bc3ef",
   "metadata": {},
   "outputs": [
    {
     "data": {
      "text/plain": [
       "<matplotlib.image.AxesImage at 0x1f35d8c8490>"
      ]
     },
     "execution_count": 24,
     "metadata": {},
     "output_type": "execute_result"
    }
   ],
   "source": [
    "image = np.array(Image.open(path))\n",
    "plt.imshow(image)"
   ]
  },
  {
   "cell_type": "code",
   "execution_count": null,
   "id": "c5b52a44-14f0-4688-a998-75b99ea84175",
   "metadata": {},
   "outputs": [],
   "source": []
  }
 ],
 "metadata": {
  "kernelspec": {
   "display_name": "Python 3 (ipykernel)",
   "language": "python",
   "name": "python3"
  },
  "language_info": {
   "codemirror_mode": {
    "name": "ipython",
    "version": 3
   },
   "file_extension": ".py",
   "mimetype": "text/x-python",
   "name": "python",
   "nbconvert_exporter": "python",
   "pygments_lexer": "ipython3",
   "version": "3.9.19"
  }
 },
 "nbformat": 4,
 "nbformat_minor": 5
}
