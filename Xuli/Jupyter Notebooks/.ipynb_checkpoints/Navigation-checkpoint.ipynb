{
 "cells": [
  {
   "cell_type": "code",
   "execution_count": 1,
   "id": "dff77956-df69-4931-af70-db14f1a25269",
   "metadata": {},
   "outputs": [
    {
     "name": "stdout",
     "output_type": "stream",
     "text": [
      "No scalebar avalable\n"
     ]
    }
   ],
   "source": [
    "from PIL import Image\n",
    "import numpy as np\n",
    "import matplotlib.pyplot as plt\n",
    "import cv2\n",
    "import hyperspy.api as hs\n",
    "import os\n",
    "\n",
    "from tqdm.notebook import tqdm\n",
    "from Gaen_packages import ImageTreatment_and_interfaces as ii"
   ]
  },
  {
   "cell_type": "markdown",
   "id": "8e1827fc-1d23-4aaf-b52e-b3df7238be25",
   "metadata": {},
   "source": [
    "# Navigation Algorithm"
   ]
  },
  {
   "cell_type": "markdown",
   "id": "71c89400-8002-4ccf-85c9-5f8b03474f39",
   "metadata": {},
   "source": [
    "This algorithm determines the navigation path for detecting nanoparticles. The direction of movement is guided by the probability of encountering nanoparticles at the next step. This probability is provided by our model, which compares the likelihood of finding nanoparticles in different directions and selects the direction with the highest probability. Once the probability reaches a predefined threshold, the system will capture an image of the corresponding region."
   ]
  },
  {
   "cell_type": "code",
   "execution_count": null,
   "id": "1469bcf8-027f-4c78-b548-42dc6e6144b8",
   "metadata": {},
   "outputs": [],
   "source": [
    "#settings\n",
    "size_detection = 256\n",
    "n = 32 #step movement\n",
    "(i,j)= (1024/2 , 1024/2) #starting point for the detection algorith \n",
    "green = (0, 255, 0) \n",
    "red = (0, 0, 255) \n",
    "thickness = 2"
   ]
  },
  {
   "cell_type": "code",
   "execution_count": null,
   "id": "7cbfb117-adf4-488b-84a9-fbb0b5134e6b",
   "metadata": {},
   "outputs": [],
   "source": [
    "def Navigation_particle (prob_mov): #prov_mov = probability of detecting nanoparticles given by the model. \n",
    "\n",
    "    c_displacement = []\n",
    "    c_nanoparticle = []\n",
    "    nanoparticle_images = []\n",
    "    \n",
    "    #current\n",
    "    scanning_m_current = M[i-128: i+128, j-128:j+128]\n",
    "    prob_mov_current = prob_mov(scanning_m_current)\n",
    "    \n",
    "    #Direction determination: by calculating the highest probability where we can find nanoparticles, the algorithm will decide the best path.\n",
    "    scanning_m_r = M[i-128+n:i+128+n, j-128:j+128]\n",
    "    prob_mov_r = prob_mov(scanning_m_r)\n",
    "    \n",
    "    scanning_m_l = M[-i-128-n:i+128-n, j-128:j+128]\n",
    "    prob_mov_l = prob_mov(scanning_m_l)\n",
    "    \n",
    "    scanning_m_u = M[i-128:i+128, j-128+n:j+128+n]\n",
    "    prob_mov_u = prob_mov(scanning_m_u)\n",
    "    \n",
    "    scannig_m_d = M[i-128:i+128, -j-128-n:j+128-n]\n",
    "    prob_mov_d = prob_mov(scannig_m_d)\n",
    "    \n",
    "    prob = [prob_mov_r, prob_mov_l, prob_mov_u, prob_mov_d]\n",
    "    max_prob = np.max(prob)\n",
    "\n",
    "    #Acquiring the image of the nanoparticle when the surroundings haven't higher porbability of finding a nanoparticle than the current posistion\n",
    "    if max_prob <= prob_mov_current: \n",
    "        Append_coordinates (c_nanoparticle, i, j)\n",
    "        nanoparticle_images.append(scanning_m_current)\n",
    "    \n",
    "    #Displacement\n",
    "    if max_prob == prob_mov_r: #go to the right\n",
    "        i,j = i+n, j\n",
    "        Append_coordinates (c_displacement, i, j)\n",
    "        \n",
    "    elif max_prob == prob_mov_l: #go to the left\n",
    "        i,j = i-n, j\n",
    "        Append_coordinates (c_displacement, i, j)\n",
    "    \n",
    "    elif max_prob == prob_mov_u: #go up\n",
    "        i,j = i, j+n\n",
    "        Append_coordinates (c_displacement, i, j)\n",
    "    \n",
    "    elif max_prob == prob_mov_d: #go down\n",
    "        i,j = i, j-n\n",
    "        Append_coordinates (c_displacement, i, j)\n",
    "        \n",
    "    return c_displacement\n",
    "\n",
    "    "
   ]
  },
  {
   "cell_type": "code",
   "execution_count": null,
   "id": "702266dc-c2d8-4775-903b-d811a31ae640",
   "metadata": {},
   "outputs": [],
   "source": [
    "def Navigation_in_minigrid (M, x, y, n): # M is the total matrix image; x and y are the dimensions of the minigrid; n is the step for the movement  \n",
    "\n",
    "    c_minigrid = []\n",
    "    \n",
    "    for i in tqdm (range(0, x, n)): # Movement of the section along the x and y axis\n",
    "        for j in range (0, y, n):\n",
    "\n",
    "            scanning_view = M[i-128+n:i+128+n, j-128+n:j+128+n]\n",
    "            Append_coordinates(c_minigrid, i, j)\n",
    "            \n",
    "    return c_minigrid\n",
    "            "
   ]
  },
  {
   "cell_type": "code",
   "execution_count": null,
   "id": "d5ea7922-3e14-4efd-991c-65cc406c984f",
   "metadata": {},
   "outputs": [],
   "source": [
    "def Border_detection (border_right, border_left, border_up, border_down, dimension_right, dimension_up): \n",
    "    \"\"\"\n",
    "    This function detects borders when scanning the image.\n",
    "\n",
    "    border_x and border_y: coordinates along the x and y axis that we want to verify if they are exceeding the limits of the images.\n",
    "    \n",
    "    \"\"\"\n",
    "    if border_letf < 0 or border_right >= dimension_right:\n",
    "        return True\n",
    " \n",
    "    if border_up > 0 or border_down >= dimension_down : \n",
    "        return True\n",
    "\n",
    "    \n",
    "    "
   ]
  },
  {
   "cell_type": "code",
   "execution_count": null,
   "id": "16d91c17-71b4-4697-b580-a7015d94ccda",
   "metadata": {},
   "outputs": [],
   "source": [
    "def Draw_Tracking_Line (image_copy, coordinates_list):\n",
    "    \"\"\"\n",
    "    This function draw a tracking line of the movement.\n",
    "\n",
    "    \"\"\"\n",
    "    #Iterating over pairs of points in the coordinates list to draw the line\n",
    "    for start_point, end_point in zip(coordinates_list[:-1], coordinates_list[1:]): \n",
    "        cv2.line(image_copy, start_point, end_point, color, thickness)\n",
    "\n",
    "    return image_copy"
   ]
  },
  {
   "cell_type": "code",
   "execution_count": null,
   "id": "1b134708-39ba-469b-bbbd-2fcb5284666e",
   "metadata": {},
   "outputs": [],
   "source": [
    "def Draw_Coordinates (iamge_copy, coordinates_list):\n",
    "    \"\"\"\n",
    "    This function draw the coordinates on a image\n",
    "    \"\"\"\n",
    "    for point in coodinates_list:\n",
    "        cv2.line(image_copy, point, 5,red, -1) )\n",
    "\n",
    "    return image_copy"
   ]
  },
  {
   "cell_type": "code",
   "execution_count": null,
   "id": "a2c2f93e-abba-42a1-8123-8828083d117a",
   "metadata": {},
   "outputs": [],
   "source": [
    "def Append_coordinates (coordinates_list, i, j):\n",
    "    \n",
    "    coordinates_list.append((i, j))\n",
    "    \n",
    "    return coordinates_list"
   ]
  }
 ],
 "metadata": {
  "kernelspec": {
   "display_name": "Python 3 (ipykernel)",
   "language": "python",
   "name": "python3"
  },
  "language_info": {
   "codemirror_mode": {
    "name": "ipython",
    "version": 3
   },
   "file_extension": ".py",
   "mimetype": "text/x-python",
   "name": "python",
   "nbconvert_exporter": "python",
   "pygments_lexer": "ipython3",
   "version": "3.9.19"
  }
 },
 "nbformat": 4,
 "nbformat_minor": 5
}
