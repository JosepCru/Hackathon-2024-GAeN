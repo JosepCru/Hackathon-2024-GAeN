{
 "cells": [
  {
   "cell_type": "markdown",
   "id": "7e75a858-876e-48a5-95b6-9d8488676fc1",
   "metadata": {
    "jp-MarkdownHeadingCollapsed": true
   },
   "source": [
    "## Preparar nanopartículas"
   ]
  },
  {
   "cell_type": "code",
   "execution_count": 70,
   "id": "96d66a9b-8254-429f-9db2-f6a9b1cb1463",
   "metadata": {},
   "outputs": [],
   "source": [
    "import hyperspy.api as hs\n",
    "import matplotlib.pyplot as plt\n",
    "from PIL import Image\n",
    "import numpy as np\n",
    "import cv2\n"
   ]
  },
  {
   "cell_type": "code",
   "execution_count": 28,
   "id": "389c80eb-b9a0-4451-a7f7-8984c488602e",
   "metadata": {},
   "outputs": [],
   "source": [
    "destino = r\"C:\\Users\\PC\\Hackathon\\Cropped images_spectra\""
   ]
  },
  {
   "cell_type": "code",
   "execution_count": 120,
   "id": "1473b91e-6d3e-41f3-b91f-375bf4ee4fa7",
   "metadata": {},
   "outputs": [],
   "source": [
    "path = r\"C:\\Users\\PC\\Hackathon\\Selected images_spectra\\Selected images_spectra\\0028-20241022_HAADF_115_kx HAADF.dm4\""
   ]
  },
  {
   "cell_type": "code",
   "execution_count": 135,
   "id": "9178793d-4c58-4a69-866e-35739335e2ac",
   "metadata": {},
   "outputs": [],
   "source": [
    "%matplotlib qt\n",
    "\n",
    "image = hs.load(path)\n",
    "matrix = image.data\n",
    "plt.imshow(matrix,cmap=\"gray\")\n",
    "plt.show()"
   ]
  },
  {
   "cell_type": "code",
   "execution_count": 127,
   "id": "e1a44b2a-09a8-45ef-aaa3-d99f0f7b03e4",
   "metadata": {},
   "outputs": [
    {
     "data": {
      "text/plain": [
       "<matplotlib.image.AxesImage at 0x27f6989e8e0>"
      ]
     },
     "execution_count": 127,
     "metadata": {},
     "output_type": "execute_result"
    }
   ],
   "source": [
    "matrixcrop = matrix[460:880,430:850]\n",
    "plt.imshow(matrixcrop,cmap=\"gray\")"
   ]
  },
  {
   "cell_type": "code",
   "execution_count": 128,
   "id": "917d0ccd-1a87-4293-9d0b-0f19d3451e74",
   "metadata": {},
   "outputs": [],
   "source": [
    "image_crop = Image.fromarray(matrixcrop)"
   ]
  },
  {
   "cell_type": "code",
   "execution_count": 129,
   "id": "95af93f0-00d4-4fb9-8d38-a0dc66d14101",
   "metadata": {},
   "outputs": [],
   "source": [
    "n = 14"
   ]
  },
  {
   "cell_type": "code",
   "execution_count": 130,
   "id": "67a8333b-a86e-4e28-8357-9e2e4e6cbe9a",
   "metadata": {},
   "outputs": [],
   "source": [
    "image_crop.save(destino + \"/\" + f\"image{n}.png\")"
   ]
  },
  {
   "cell_type": "code",
   "execution_count": 79,
   "id": "7fff58ba-91e7-428f-8555-caced400aeed",
   "metadata": {},
   "outputs": [],
   "source": [
    "image_ = Image.open(destino + \"/\" + f\"image{n}.png\")\n",
    "image_ = np.array(image_)\n",
    "image_r = cv2.resize(image_,(128,128), interpolation = cv2.INTER_LINEAR)"
   ]
  },
  {
   "cell_type": "code",
   "execution_count": 80,
   "id": "3cccf67b-1123-43f7-b9d4-988cbb5e4a75",
   "metadata": {},
   "outputs": [],
   "source": [
    "plt.imshow(image_r)\n",
    "plt.show()"
   ]
  },
  {
   "cell_type": "code",
   "execution_count": 131,
   "id": "7ad89dc3-a063-420a-93bf-b2833aa196f9",
   "metadata": {},
   "outputs": [],
   "source": [
    "import os"
   ]
  },
  {
   "cell_type": "code",
   "execution_count": 132,
   "id": "955568ea-dcdf-45f9-8b68-46b34f86d964",
   "metadata": {},
   "outputs": [],
   "source": [
    "n_destino = r\"C:\\Users\\PC\\Hackathon\\Cropped 128\""
   ]
  },
  {
   "cell_type": "code",
   "execution_count": 134,
   "id": "d8e78f4f-c292-4a56-9310-1c50b9d274d6",
   "metadata": {},
   "outputs": [],
   "source": [
    "for file in os.listdir(destino):\n",
    "    A = Image.open(destino + \"/\"+ file)\n",
    "    A = np.array(A)\n",
    "    B = cv2.resize(A, (128,128), interpolation = cv2.INTER_LINEAR)\n",
    "    C = Image.fromarray(B)\n",
    "    C.save(n_destino + \"/\" + file)"
   ]
  },
  {
   "cell_type": "markdown",
   "id": "216674f2-420e-413e-9875-b59df8e79959",
   "metadata": {
    "jp-MarkdownHeadingCollapsed": true
   },
   "source": [
    "## Preparar background"
   ]
  },
  {
   "cell_type": "code",
   "execution_count": 398,
   "id": "5204c29e-3857-41f4-b9cb-90ba9d7bb803",
   "metadata": {},
   "outputs": [],
   "source": [
    "path = r\"C:\\Users\\PC\\Hackathon\\Selected images_spectra\\Selected images_spectra\\8.dm4\""
   ]
  },
  {
   "cell_type": "code",
   "execution_count": 334,
   "id": "49b2c4bb-a152-4c04-8764-3da7214de631",
   "metadata": {},
   "outputs": [],
   "source": [
    "destino = r\"C:\\Users\\PC\\Hackathon\\backgroundbis\""
   ]
  },
  {
   "cell_type": "code",
   "execution_count": 400,
   "id": "8229a0fe-2421-4bbd-be9f-41a9bed28d74",
   "metadata": {},
   "outputs": [],
   "source": [
    "image = hs.load(path)\n",
    "matrix = image.data[724:,400:700]\n",
    "plt.imshow(matrix,cmap=\"gray\")\n",
    "plt.show()"
   ]
  },
  {
   "cell_type": "code",
   "execution_count": 164,
   "id": "e5412ad7-1584-429e-922d-e3e40232209c",
   "metadata": {},
   "outputs": [],
   "source": [
    "k=69\n",
    "for i in range(0,3):\n",
    "    for j in range(0,10):\n",
    "        k+=1\n",
    "        A = matrix[j*100:j*100+100,i*100:i*100+100]\n",
    "        B = cv2.resize(A,(32,32), interpolation=cv2.INTER_LINEAR)\n",
    "        C = Image.fromarray(B)\n",
    "        C.save(destino + \"/\" + f\"background_{k}.png\")"
   ]
  },
  {
   "cell_type": "code",
   "execution_count": 401,
   "id": "58b52c82-2444-48bd-9831-10213ee2b786",
   "metadata": {},
   "outputs": [],
   "source": [
    "k=19\n",
    "B = cv2.resize(matrix,(32,32), interpolation=cv2.INTER_LINEAR)\n",
    "C = Image.fromarray(B)\n",
    "C.save(destino + \"/\" + f\"background_{k}.png\")"
   ]
  },
  {
   "cell_type": "markdown",
   "id": "737f2191-5c9b-4ed4-943a-2a72b65cb8fb",
   "metadata": {
    "jp-MarkdownHeadingCollapsed": true
   },
   "source": [
    "## Labelear"
   ]
  },
  {
   "cell_type": "code",
   "execution_count": 210,
   "id": "ae449078-1b9e-49ee-89b5-b64ff79101cd",
   "metadata": {},
   "outputs": [],
   "source": [
    "path = r\"C:\\Users\\PC\\Hackathon\\Cropped 128\""
   ]
  },
  {
   "cell_type": "code",
   "execution_count": 211,
   "id": "6a3f684f-3ab8-437b-804b-0567f5a0ff0b",
   "metadata": {},
   "outputs": [],
   "source": [
    "destino = r\"C:\\Users\\PC\\Hackathon\\Labels\""
   ]
  },
  {
   "cell_type": "code",
   "execution_count": 262,
   "id": "1cf8833f-7908-4994-81ff-11856db72c94",
   "metadata": {},
   "outputs": [],
   "source": [
    "image = Image.open(path + f\"/image{n}.png\")\n",
    "plt.imshow(image,cmap=\"gray\")\n",
    "plt.show()"
   ]
  },
  {
   "cell_type": "code",
   "execution_count": 261,
   "id": "3ef6a31c-4843-49ac-9ba9-a4c3124837c6",
   "metadata": {},
   "outputs": [],
   "source": [
    "n = 14\n",
    "puntos = [[50,53]]"
   ]
  },
  {
   "cell_type": "code",
   "execution_count": 263,
   "id": "70c7bf5c-33b1-4ee7-8eb9-ae047c50cb67",
   "metadata": {},
   "outputs": [
    {
     "name": "stdout",
     "output_type": "stream",
     "text": [
      "50 53\n"
     ]
    }
   ],
   "source": [
    "A = np.zeros((128,128))\n",
    "for p in puntos:\n",
    "    a = p[0]\n",
    "    b = p[1]\n",
    "    print(a,b)\n",
    "    A[a,b]=1\n",
    "B = Image.fromarray(np.uint8(A*255))\n",
    "B.save(destino + \"/\" + f\"label_{n}.png\")"
   ]
  },
  {
   "cell_type": "markdown",
   "id": "85534788-7f3e-4009-9e1c-2d398e6b9e15",
   "metadata": {},
   "source": [
    "## Formar las imágenes con nano "
   ]
  },
  {
   "cell_type": "code",
   "execution_count": 264,
   "id": "ec87a092-db88-4c50-ba83-8d96ec515042",
   "metadata": {},
   "outputs": [],
   "source": [
    "import numpy as np\n",
    "from PIL import Image\n",
    "import random"
   ]
  },
  {
   "cell_type": "code",
   "execution_count": 440,
   "id": "61ce8fbc-74af-4ccd-9596-b803d399e7c6",
   "metadata": {},
   "outputs": [],
   "source": [
    "def normalize(matrix):     \n",
    "    minim = np.amin(matrix)\n",
    "    maxim = np.amax(matrix)\n",
    "    if(minim != maxim):\n",
    "       normalize_matrix = (matrix - minim) / (maxim - minim)\n",
    "    elif(maxim != 0):\n",
    "       normalize_matrix = matrix/maxim\n",
    "    else:\n",
    "       normalize_matrix = matrix\n",
    "   \n",
    "    return normalize_matrix"
   ]
  },
  {
   "cell_type": "code",
   "execution_count": 564,
   "id": "ba232282-b9cb-48e0-b128-8a4c41aec6d4",
   "metadata": {},
   "outputs": [],
   "source": [
    "def crear_imagen_compuesta(path_imagen_128, path_label_128, imagenes_32):\n",
    "    \n",
    "    # creamos el lienzo\n",
    "    lienzo = np.zeros((256,256))\n",
    "    lienzo_label = np.zeros((256,256))\n",
    "    \n",
    "    # cojemos la imagen \n",
    "    imagen_128 = np.asarray(Image.open(path_imagen_128))\n",
    "    label_128 = np.asarray(Image.open(path_label_128))\n",
    "    \n",
    "    # llenamos el lienzo de ruido\n",
    "    for i in range(0, 8): \n",
    "        for j in range(0, 8): \n",
    "                imagen_32 = random.choice(imagenes_32)\n",
    "                background = np.asarray(Image.open(imagen_32))\n",
    "                #m = np.mean(imagen_128)\n",
    "                # background = cv2.resize(background,(64,64),interpolation=cv2.INTER_LINEAR)\n",
    "                lienzo[i*32:(i+1)*32, j*32:(j+1)*32] = background#*m\n",
    "    \n",
    "    # delimitamos los límites\n",
    "    max_x = random.randint(0, 4)\n",
    "    max_y = random.randint(0, 4)\n",
    "    pos_x = max_x*32\n",
    "    pos_y = max_y*32\n",
    "    \n",
    "    lienzo[pos_y:pos_y+128, pos_x:pos_x+128] = imagen_128\n",
    "    lienzo_label[pos_y:pos_y+128, pos_x:pos_x+128] = label_128\n",
    "    \n",
    "    return lienzo, lienzo_label"
   ]
  },
  {
   "cell_type": "code",
   "execution_count": 556,
   "id": "83e5e2fa-d1b3-46d9-8efb-b71dd1010421",
   "metadata": {},
   "outputs": [],
   "source": [
    "path_imagenes = r\"C:\\Users\\PC\\Documents\\GitHub\\Hackathon-2024-GAeN\\Ivan\\nps\"\n",
    "path_background = r\"C:\\Users\\PC\\Documents\\GitHub\\Hackathon-2024-GAeN\\Ivan\\bckg\"\n",
    "path_label = r\"C:\\Users\\PC\\Documents\\GitHub\\Hackathon-2024-GAeN\\Ivan\\labels\""
   ]
  },
  {
   "cell_type": "code",
   "execution_count": 513,
   "id": "6c53585b-b49b-4764-b221-2cb59511ac76",
   "metadata": {},
   "outputs": [],
   "source": [
    "n = 0\n",
    "\n",
    "imagenes_32 = [os.path.join(path_background, archivo) for archivo in os.listdir(path_background)]\n",
    "\n",
    "lienzo, lienzo_label = crear_imagen_compuesta(path_imagenes + \"/\" + f\"nano_{n}.png\", path_label + \"/\" + f\"label_{n}.png\",imagenes_32)\n",
    "\n",
    "\n",
    "plt.imshow(lienzo)\n",
    "plt.show()\n",
    "\n"
   ]
  },
  {
   "cell_type": "code",
   "execution_count": 450,
   "id": "41564bde-5635-44b1-9d03-a542454aa913",
   "metadata": {
    "collapsed": true,
    "jupyter": {
     "outputs_hidden": true,
     "source_hidden": true
    }
   },
   "outputs": [
    {
     "data": {
      "text/plain": [
       "array([[   1.19521912,    7.03851262,   18.59229748, ...,   13.63636364,\n",
       "          12.12121212,   11.36363636],\n",
       "       [   1.46082337,    6.10889774,   15.53784861, ...,   17.8030303 ,\n",
       "          15.53030303,   14.39393939],\n",
       "       [   1.85922975,    4.38247012,    9.29614874, ...,   25.75757576,\n",
       "          22.34848485,   20.83333333],\n",
       "       ...,\n",
       "       [ 973.        , 1078.        , 1065.        , ...,   31.88637089,\n",
       "          27.06670922,   24.67283754],\n",
       "       [ 923.        ,  998.        ,  859.        , ...,   23.26843281,\n",
       "          39.57867858,   47.71784232],\n",
       "       [1102.        ,  854.        , 1044.        , ...,   18.95946377,\n",
       "          45.80274497,   59.24034472]])"
      ]
     },
     "execution_count": 450,
     "metadata": {},
     "output_type": "execute_result"
    }
   ],
   "source": [
    "imagen_final"
   ]
  },
  {
   "cell_type": "code",
   "execution_count": 557,
   "id": "8a3ed23c-93ea-4a9b-81f1-313588889e1e",
   "metadata": {},
   "outputs": [],
   "source": [
    "destino_i = r\"C:\\Users\\PC\\Documents\\GitHub\\Hackathon-2024-GAeN\\Ivan\\imagenes\\imagenes\"\n",
    "destino_l = r\"C:\\Users\\PC\\Documents\\GitHub\\Hackathon-2024-GAeN\\Ivan\\imagenes\\labels\""
   ]
  },
  {
   "cell_type": "code",
   "execution_count": 565,
   "id": "25157ddb-dcb0-4804-a313-d847eb5989ac",
   "metadata": {},
   "outputs": [],
   "source": [
    "imagenes_32 = [os.path.join(path_background, archivo) for archivo in os.listdir(path_background)]\n",
    "k = 0\n",
    "\n",
    "for i in range(1,3):\n",
    "    for j in range(0,40):\n",
    "        lienzo, lienzo_label = crear_imagen_compuesta(path_imagenes + \"/\" + f\"n{i}.png\", path_label + \"/\" + f\"l{i}.png\",imagenes_32)\n",
    "        lienzo = normalize(lienzo)\n",
    "        lienzo = Image.fromarray(np.uint8(lienzo*255))\n",
    "        lienzo_label = Image.fromarray(np.uint8(lienzo_label*255))\n",
    "        lienzo.save(destino_i + \"/\" + f\"imagen_{k}.png\")\n",
    "        lienzo_label.save(destino_l + \"/\" + f\"label_{k}.png\") \n",
    "        k+=1"
   ]
  },
  {
   "cell_type": "code",
   "execution_count": 532,
   "id": "19b7e1f3-e1fb-4ddf-8703-477c1a6635c8",
   "metadata": {},
   "outputs": [],
   "source": [
    "A = Image.open(destino_i + \"/\" + \"imagen_130.png\")\n",
    "B = Image.open(destino_l + \"/\" + \"label_130.png\")"
   ]
  },
  {
   "cell_type": "code",
   "execution_count": 535,
   "id": "067a3b10-447e-4166-af6f-00fa2372e7ac",
   "metadata": {},
   "outputs": [],
   "source": [
    "%matplotlib qt\n",
    "\n",
    "plt.imshow(A)\n",
    "plt.show()"
   ]
  },
  {
   "cell_type": "code",
   "execution_count": 534,
   "id": "98a5d21e-3f50-4177-abd7-281c51817f92",
   "metadata": {},
   "outputs": [
    {
     "data": {
      "image/png": "[encoded data removed]",
      "text/plain": [
       "<Figure size 800x600 with 1 Axes>"
      ]
     },
     "metadata": {},
     "output_type": "display_data"
    }
   ],
   "source": [
    "%matplotlib inline\n",
    "\n",
    "plt.imshow(B)\n",
    "plt.show()"
   ]
  },
  {
   "cell_type": "code",
   "execution_count": 573,
   "id": "56e69d83-95fe-41fa-8e9d-60cda38b6c74",
   "metadata": {},
   "outputs": [],
   "source": [
    "path = r\"C:\\Users\\PC\\Documents\\GitHub\\Hackathon-2024-GAeN\\Ivan\\imagenes\\labels\"\n",
    "new_path = r\"C:\\Users\\PC\\Documents\\GitHub\\Hackathon-2024-GAeN\\Ivan\\imagenes\\labels_con_ruido\""
   ]
  },
  {
   "cell_type": "code",
   "execution_count": 574,
   "id": "cd5fc88c-6d33-4c9c-a34d-0f24e8f4bde3",
   "metadata": {},
   "outputs": [],
   "source": [
    "import shutil\n",
    "\n",
    "for file in os.listdir(path):\n",
    "    for j in range(0,8):\n",
    "        nombre = new_path + \"/\" + file[:-4] + f\"_n{j}.png\"\n",
    "        shutil.copy(path + \"/\" + file, nombre)"
   ]
  },
  {
   "cell_type": "code",
   "execution_count": 546,
   "id": "e73e9a33-6d75-4f70-832f-7e2600147bb6",
   "metadata": {},
   "outputs": [],
   "source": [
    "A = Image.open(r\"C:\\Users\\PC\\Hackathon\\imagenes\\imagenes_con_ruido\" + \"/\" + \"imagen_130_n1.png\")\n",
    "B = Image.open(r\"C:\\Users\\PC\\Hackathon\\imagenes\\labels_con_ruido\" + \"/\" + \"label_130_n5.png\")"
   ]
  },
  {
   "cell_type": "code",
   "execution_count": 545,
   "id": "db9e5cb4-71e5-4366-a80a-b7b457a36235",
   "metadata": {},
   "outputs": [],
   "source": [
    "%matplotlib qt\n",
    "\n",
    "plt.imshow(A)\n",
    "plt.show()"
   ]
  },
  {
   "cell_type": "code",
   "execution_count": 547,
   "id": "8a9af33c-1590-40e9-8723-06a3446084a7",
   "metadata": {},
   "outputs": [
    {
     "data": {
      "image/png": "[encoded data removed]",
      "text/plain": [
       "<Figure size 640x480 with 1 Axes>"
      ]
     },
     "metadata": {},
     "output_type": "display_data"
    }
   ],
   "source": [
    "%matplotlib inline\n",
    "\n",
    "plt.imshow(B)\n",
    "plt.show()"
   ]
  },
  {
   "cell_type": "markdown",
   "id": "b2438c78-3027-4412-8a54-49fc6afdbff2",
   "metadata": {
    "jp-MarkdownHeadingCollapsed": true
   },
   "source": [
    "## Imágenes solo backgrounds"
   ]
  },
  {
   "cell_type": "code",
   "execution_count": 570,
   "id": "8a73a089-471f-4fbf-8a22-4b00ee3336be",
   "metadata": {},
   "outputs": [],
   "source": [
    "def crear_imagen_background(imagenes_32): #el argumento de las imágenes para las otras es necesario\n",
    "    \n",
    "    # creamos el lienzo\n",
    "    lienzo = np.zeros((256,256))\n",
    "    \n",
    "    # cojemos la imagen \n",
    "    #imagen_128 = np.asarray(Image.open(path_imagen_128))\n",
    "    \n",
    "    # llenamos el lienzo de ruido\n",
    "    for i in range(0, 8): \n",
    "        for j in range(0, 8): \n",
    "                imagen_32 = random.choice(imagenes_32)\n",
    "                background = np.asarray(Image.open(imagen_32))\n",
    "                #m = np.mean(imagen_128)\n",
    "                lienzo[i*32:(i+1)*32, j*32:(j+1)*32] = background#*m cuidado con las de jovan se normaliza\n",
    "    \n",
    "    return lienzo"
   ]
  },
  {
   "cell_type": "code",
   "execution_count": 566,
   "id": "1d56ad70-fb0f-4859-a340-7db829952ecc",
   "metadata": {},
   "outputs": [],
   "source": [
    "path_background = r\"C:\\Users\\PC\\Documents\\GitHub\\Hackathon-2024-GAeN\\Ivan\\bckg\""
   ]
  },
  {
   "cell_type": "code",
   "execution_count": 567,
   "id": "de7021d8-75e2-4514-89d8-5ba49de6f989",
   "metadata": {},
   "outputs": [],
   "source": [
    "destino_r = r\"C:\\Users\\PC\\Documents\\GitHub\\Hackathon-2024-GAeN\\Ivan\\imagenes\\background\""
   ]
  },
  {
   "cell_type": "code",
   "execution_count": 571,
   "id": "bf123a0e-2324-497a-834f-665ade3bf16a",
   "metadata": {},
   "outputs": [],
   "source": [
    "imagenes_32 = [os.path.join(path_background, archivo) for archivo in os.listdir(path_background)]\n",
    "k = 0\n",
    "\n",
    "for i in range(1,3):\n",
    "    for j in range(0,35):\n",
    "        lienzo = crear_imagen_background(imagenes_32)\n",
    "        lienzo = normalize(lienzo)\n",
    "        lienzo = Image.fromarray(np.uint8(lienzo*255))\n",
    "        lienzo.save(destino_r + \"/\" + f\"background_{k}.png\")\n",
    "        k+=1\n"
   ]
  }
 ],
 "metadata": {
  "kernelspec": {
   "display_name": "Python 3 (ipykernel)",
   "language": "python",
   "name": "python3"
  },
  "language_info": {
   "codemirror_mode": {
    "name": "ipython",
    "version": 3
   },
   "file_extension": ".py",
   "mimetype": "text/x-python",
   "name": "python",
   "nbconvert_exporter": "python",
   "pygments_lexer": "ipython3",
   "version": "3.9.0"
  }
 },
 "nbformat": 4,
 "nbformat_minor": 5
}
