{
 "cells": [
  {
   "cell_type": "code",
   "execution_count": 5,
   "id": "83e43401-faf6-4b86-bd63-e78f2689d477",
   "metadata": {},
   "outputs": [],
   "source": [
    "import cv2\n",
    "import hyperspy.api as hs\n",
    "import numpy as np\n",
    "import matplotlib.pyplot as plt\n",
    "import torch\n",
    "import torch.utils.data\n",
    "import time\n",
    "import os\n",
    "from PIL import Image\n",
    "import atomai as aoi\n",
    "\n",
    "%matplotlib inline"
   ]
  },
  {
   "cell_type": "code",
   "execution_count": 6,
   "id": "ae414e6f-9431-4fde-97d2-3a52ee312002",
   "metadata": {},
   "outputs": [
    {
     "data": {
      "text/plain": [
       "<torch._C.Generator at 0x1d1f20526b0>"
      ]
     },
     "execution_count": 6,
     "metadata": {},
     "output_type": "execute_result"
    }
   ],
   "source": [
    "torch.manual_seed(0)"
   ]
  },
  {
   "cell_type": "code",
   "execution_count": 7,
   "id": "154f138d-74a2-490d-902c-f91866611efe",
   "metadata": {},
   "outputs": [],
   "source": [
    "def normalize(matrix):     \n",
    "    minim = np.amin(matrix)\n",
    "    maxim = np.amax(matrix)\n",
    "    if(minim != maxim):\n",
    "       normalize_matrix = (matrix - minim) / (maxim - minim)\n",
    "    elif(maxim != 0):\n",
    "       normalize_matrix = matrix/maxim\n",
    "    else:\n",
    "       normalize_matrix = matrix\n",
    "   \n",
    "    return normalize_matrix"
   ]
  },
  {
   "cell_type": "code",
   "execution_count": 8,
   "id": "965f22b9-c76f-4bed-aa14-391b8b112c9e",
   "metadata": {},
   "outputs": [],
   "source": [
    "dir_imagenes = r\"\"\n",
    "dir_labels = r\"\""
   ]
  },
  {
   "cell_type": "code",
   "execution_count": null,
   "id": "a2779c24-a126-41bf-8844-8e47c743cad8",
   "metadata": {},
   "outputs": [],
   "source": [
    "dataset_imag = []\n",
    "dataset_labels = []\n",
    "\n",
    "for n_imag, n_label in zip(os.listdir(dir_imagenes),os.listdir(dir_labels)):\n",
    "    imagen = Image.open(dir_imagenes + '/' + n_imagen)\n",
    "    label = Image.open(dir_labels + '/' + n_label)\n",
    "    imagen = np.array(imagen)\n",
    "    label = np.array(label)\n",
    "    dataset_imag.append(normalize(imagen))\n",
    "    dataset_labels.append(label)"
   ]
  },
  {
   "cell_type": "code",
   "execution_count": 6,
   "id": "e8bf9b46-b121-49cb-812e-d2a10bd47f18",
   "metadata": {},
   "outputs": [],
   "source": [
    "dataset_imag = np.array(dataset_imag)\n",
    "dataset_labels = np.array(dataset_labels)"
   ]
  },
  {
   "cell_type": "code",
   "execution_count": 7,
   "id": "ba74c77e-6e31-433b-862a-b7b80f69a4a2",
   "metadata": {},
   "outputs": [],
   "source": [
    "porcentaje_test = 0.2\n",
    "n_test = int(porcentaje_test * len(dataset_imag))\n",
    "\n",
    "indices = torch.randperm(len(dataset_imag)).tolist()\n",
    "indices_test = indices[:n_test]\n",
    "indices_train = indices[n_test:]"
   ]
  },
  {
   "cell_type": "code",
   "execution_count": 8,
   "id": "e0594047-144c-4915-96c9-7d79715e9cbc",
   "metadata": {},
   "outputs": [],
   "source": [
    "dataset_imag_train = dataset_ffts_256[indices_train]\n",
    "dataset_imag_test = dataset_ffts_256[indices_test]\n",
    "dataset_labels_train = dataset_labels_256[indices_train]\n",
    "dataset_labels_test = dataset_labels_256[indices_test]"
   ]
  },
  {
   "cell_type": "code",
   "execution_count": 9,
   "id": "472c2c18-dc72-409d-b423-c3236c8034c0",
   "metadata": {
    "scrolled": true
   },
   "outputs": [
    {
     "name": "stderr",
     "output_type": "stream",
     "text": [
      "C:\\Users\\PC\\AppData\\Roaming\\Python\\Python39\\site-packages\\atomai\\trainers\\trainer.py:660: UserWarning: No GPU found. The training can be EXTREMELY slow\n",
      "  warnings.warn(\n",
      "C:\\Users\\PC\\AppData\\Roaming\\Python\\Python39\\site-packages\\atomai\\utils\\preproc.py:54: UserWarning: Adding a channel dimension of 1 to training images\n",
      "  warnings.warn(\n",
      "C:\\Users\\PC\\AppData\\Roaming\\Python\\Python39\\site-packages\\atomai\\utils\\preproc.py:59: UserWarning: Adding a channel dimension of 1 to test images\n",
      "  warnings.warn(\n",
      "C:\\Users\\PC\\AppData\\Roaming\\Python\\Python39\\site-packages\\atomai\\utils\\preproc.py:64: UserWarning: Adding a channel dimension of 1 to training labels\n",
      "  warnings.warn(\n",
      "C:\\Users\\PC\\AppData\\Roaming\\Python\\Python39\\site-packages\\atomai\\utils\\preproc.py:69: UserWarning: Adding a channel dimension of 1 to test labels\n",
      "  warnings.warn(\n"
     ]
    },
    {
     "name": "stdout",
     "output_type": "stream",
     "text": [
      "Epoch 1/1000 ... Training loss: 0.8085 ... Test loss: 0.7778 ... Train Accuracy: 0.1391 ... Test Accuracy: 0.0001 ... GPU memory usage: N/A / N/A\n",
      "Epoch 100/1000 ... Training loss: 0.5613 ... Test loss: 0.5549 ... Train Accuracy: 0.55 ... Test Accuracy: 0.5739 ... GPU memory usage: N/A / N/A\n",
      "Epoch 200/1000 ... Training loss: 0.2517 ... Test loss: 0.2451 ... Train Accuracy: 0.5404 ... Test Accuracy: 0.5563 ... GPU memory usage: N/A / N/A\n",
      "Epoch 300/1000 ... Training loss: 0.1034 ... Test loss: 0.1013 ... Train Accuracy: 0.5588 ... Test Accuracy: 0.5819 ... GPU memory usage: N/A / N/A\n",
      "Epoch 400/1000 ... Training loss: 0.0511 ... Test loss: 0.0494 ... Train Accuracy: 0.6078 ... Test Accuracy: 0.6064 ... GPU memory usage: N/A / N/A\n",
      "Epoch 500/1000 ... Training loss: 0.0298 ... Test loss: 0.0293 ... Train Accuracy: 0.6426 ... Test Accuracy: 0.6208 ... GPU memory usage: N/A / N/A\n",
      "Epoch 600/1000 ... Training loss: 0.0195 ... Test loss: 0.019 ... Train Accuracy: 0.6396 ... Test Accuracy: 0.6852 ... GPU memory usage: N/A / N/A\n"
     ]
    },
    {
     "ename": "KeyboardInterrupt",
     "evalue": "",
     "output_type": "error",
     "traceback": [
      "\u001b[1;31m---------------------------------------------------------------------------\u001b[0m",
      "\u001b[1;31mKeyboardInterrupt\u001b[0m                         Traceback (most recent call last)",
      "Cell \u001b[1;32mIn[9], line 5\u001b[0m\n\u001b[0;32m      2\u001b[0m model \u001b[38;5;241m=\u001b[39m aoi\u001b[38;5;241m.\u001b[39mmodels\u001b[38;5;241m.\u001b[39mSegmentor(nb_classes\u001b[38;5;241m=\u001b[39m\u001b[38;5;241m1\u001b[39m)\n\u001b[0;32m      4\u001b[0m \u001b[38;5;66;03m# Train\u001b[39;00m\n\u001b[1;32m----> 5\u001b[0m \u001b[43mmodel\u001b[49m\u001b[38;5;241;43m.\u001b[39;49m\u001b[43mfit\u001b[49m\u001b[43m(\u001b[49m\u001b[43mdataset_ffts_256_train\u001b[49m\u001b[43m,\u001b[49m\u001b[43m \u001b[49m\u001b[43mdataset_labels_256_train\u001b[49m\u001b[43m,\u001b[49m\u001b[43m \u001b[49m\u001b[43mdataset_ffts_256_test\u001b[49m\u001b[43m,\u001b[49m\u001b[43m \u001b[49m\u001b[43mdataset_labels_256_test\u001b[49m\u001b[43m,\u001b[49m\u001b[43m \u001b[49m\u001b[43mtraining_cycles\u001b[49m\u001b[38;5;241;43m=\u001b[39;49m\u001b[38;5;241;43m1000\u001b[39;49m\u001b[43m,\u001b[49m\u001b[43m \u001b[49m\u001b[43mcompute_accuracy\u001b[49m\u001b[38;5;241;43m=\u001b[39;49m\u001b[38;5;28;43;01mTrue\u001b[39;49;00m\u001b[43m,\u001b[49m\u001b[43m \u001b[49m\u001b[43mswa\u001b[49m\u001b[38;5;241;43m=\u001b[39;49m\u001b[38;5;28;43;01mTrue\u001b[39;49;00m\u001b[43m)\u001b[49m\n",
      "File \u001b[1;32m~\\AppData\\Roaming\\Python\\Python39\\site-packages\\atomai\\models\\segmentor.py:149\u001b[0m, in \u001b[0;36mSegmentor.fit\u001b[1;34m(self, X_train, y_train, X_test, y_test, loss, optimizer, training_cycles, batch_size, compute_accuracy, full_epoch, swa, perturb_weights, **kwargs)\u001b[0m\n\u001b[0;32m    142\u001b[0m \u001b[38;5;28mself\u001b[39m\u001b[38;5;241m.\u001b[39mcompile_trainer(\n\u001b[0;32m    143\u001b[0m     (X_train, y_train, X_test, y_test),\n\u001b[0;32m    144\u001b[0m     loss, optimizer, training_cycles, batch_size,\n\u001b[0;32m    145\u001b[0m     compute_accuracy, full_epoch, swa, perturb_weights,\n\u001b[0;32m    146\u001b[0m     \u001b[38;5;241m*\u001b[39m\u001b[38;5;241m*\u001b[39mkwargs)\n\u001b[0;32m    148\u001b[0m \u001b[38;5;28mself\u001b[39m\u001b[38;5;241m.\u001b[39maugment_fn \u001b[38;5;241m=\u001b[39m seg_augmentor(\u001b[38;5;28mself\u001b[39m\u001b[38;5;241m.\u001b[39mnb_classes, \u001b[38;5;241m*\u001b[39m\u001b[38;5;241m*\u001b[39mkwargs)\n\u001b[1;32m--> 149\u001b[0m _ \u001b[38;5;241m=\u001b[39m \u001b[38;5;28;43mself\u001b[39;49m\u001b[38;5;241;43m.\u001b[39;49m\u001b[43mrun\u001b[49m\u001b[43m(\u001b[49m\u001b[43m)\u001b[49m\n",
      "File \u001b[1;32m~\\AppData\\Roaming\\Python\\Python39\\site-packages\\atomai\\trainers\\trainer.py:579\u001b[0m, in \u001b[0;36mBaseTrainer.run\u001b[1;34m(self)\u001b[0m\n\u001b[0;32m    577\u001b[0m     \u001b[38;5;28mself\u001b[39m\u001b[38;5;241m.\u001b[39mstep_full()\n\u001b[0;32m    578\u001b[0m \u001b[38;5;28;01melse\u001b[39;00m:\n\u001b[1;32m--> 579\u001b[0m     \u001b[38;5;28;43mself\u001b[39;49m\u001b[38;5;241;43m.\u001b[39;49m\u001b[43mstep\u001b[49m\u001b[43m(\u001b[49m\u001b[43me\u001b[49m\u001b[43m)\u001b[49m\n\u001b[0;32m    580\u001b[0m \u001b[38;5;28;01mif\u001b[39;00m \u001b[38;5;28mself\u001b[39m\u001b[38;5;241m.\u001b[39mswa:\n\u001b[0;32m    581\u001b[0m     \u001b[38;5;28mself\u001b[39m\u001b[38;5;241m.\u001b[39msave_running_weights(e)\n",
      "File \u001b[1;32m~\\AppData\\Roaming\\Python\\Python39\\site-packages\\atomai\\trainers\\trainer.py:237\u001b[0m, in \u001b[0;36mBaseTrainer.step\u001b[1;34m(self, e)\u001b[0m\n\u001b[0;32m    234\u001b[0m features, targets \u001b[38;5;241m=\u001b[39m \u001b[38;5;28mself\u001b[39m\u001b[38;5;241m.\u001b[39mdataloader(\n\u001b[0;32m    235\u001b[0m     \u001b[38;5;28mself\u001b[39m\u001b[38;5;241m.\u001b[39mbatch_idx_train[e], mode\u001b[38;5;241m=\u001b[39m\u001b[38;5;124m'\u001b[39m\u001b[38;5;124mtrain\u001b[39m\u001b[38;5;124m'\u001b[39m)\n\u001b[0;32m    236\u001b[0m \u001b[38;5;66;03m# Training step\u001b[39;00m\n\u001b[1;32m--> 237\u001b[0m loss \u001b[38;5;241m=\u001b[39m \u001b[38;5;28;43mself\u001b[39;49m\u001b[38;5;241;43m.\u001b[39;49m\u001b[43mtrain_step\u001b[49m\u001b[43m(\u001b[49m\u001b[43mfeatures\u001b[49m\u001b[43m,\u001b[49m\u001b[43m \u001b[49m\u001b[43mtargets\u001b[49m\u001b[43m)\u001b[49m\n\u001b[0;32m    238\u001b[0m \u001b[38;5;28mself\u001b[39m\u001b[38;5;241m.\u001b[39mloss_acc[\u001b[38;5;124m\"\u001b[39m\u001b[38;5;124mtrain_loss\u001b[39m\u001b[38;5;124m\"\u001b[39m]\u001b[38;5;241m.\u001b[39mappend(loss[\u001b[38;5;241m0\u001b[39m])\n\u001b[0;32m    239\u001b[0m features_, targets_ \u001b[38;5;241m=\u001b[39m \u001b[38;5;28mself\u001b[39m\u001b[38;5;241m.\u001b[39mdataloader(\n\u001b[0;32m    240\u001b[0m     \u001b[38;5;28mself\u001b[39m\u001b[38;5;241m.\u001b[39mbatch_idx_test[e], mode\u001b[38;5;241m=\u001b[39m\u001b[38;5;124m'\u001b[39m\u001b[38;5;124mtest\u001b[39m\u001b[38;5;124m'\u001b[39m)\n",
      "File \u001b[1;32m~\\AppData\\Roaming\\Python\\Python39\\site-packages\\atomai\\trainers\\trainer.py:201\u001b[0m, in \u001b[0;36mBaseTrainer.train_step\u001b[1;34m(self, feat, tar)\u001b[0m\n\u001b[0;32m    199\u001b[0m prob \u001b[38;5;241m=\u001b[39m \u001b[38;5;28mself\u001b[39m\u001b[38;5;241m.\u001b[39mnet(feat)\n\u001b[0;32m    200\u001b[0m loss \u001b[38;5;241m=\u001b[39m \u001b[38;5;28mself\u001b[39m\u001b[38;5;241m.\u001b[39mcriterion(prob, tar)\n\u001b[1;32m--> 201\u001b[0m \u001b[43mloss\u001b[49m\u001b[38;5;241;43m.\u001b[39;49m\u001b[43mbackward\u001b[49m\u001b[43m(\u001b[49m\u001b[43m)\u001b[49m\n\u001b[0;32m    202\u001b[0m \u001b[38;5;28mself\u001b[39m\u001b[38;5;241m.\u001b[39moptimizer\u001b[38;5;241m.\u001b[39mstep()\n\u001b[0;32m    203\u001b[0m \u001b[38;5;28;01mif\u001b[39;00m \u001b[38;5;28mself\u001b[39m\u001b[38;5;241m.\u001b[39mcompute_accuracy:\n",
      "File \u001b[1;32m~\\miniconda3\\envs\\practicas\\lib\\site-packages\\torch\\_tensor.py:525\u001b[0m, in \u001b[0;36mTensor.backward\u001b[1;34m(self, gradient, retain_graph, create_graph, inputs)\u001b[0m\n\u001b[0;32m    515\u001b[0m \u001b[38;5;28;01mif\u001b[39;00m has_torch_function_unary(\u001b[38;5;28mself\u001b[39m):\n\u001b[0;32m    516\u001b[0m     \u001b[38;5;28;01mreturn\u001b[39;00m handle_torch_function(\n\u001b[0;32m    517\u001b[0m         Tensor\u001b[38;5;241m.\u001b[39mbackward,\n\u001b[0;32m    518\u001b[0m         (\u001b[38;5;28mself\u001b[39m,),\n\u001b[1;32m   (...)\u001b[0m\n\u001b[0;32m    523\u001b[0m         inputs\u001b[38;5;241m=\u001b[39minputs,\n\u001b[0;32m    524\u001b[0m     )\n\u001b[1;32m--> 525\u001b[0m \u001b[43mtorch\u001b[49m\u001b[38;5;241;43m.\u001b[39;49m\u001b[43mautograd\u001b[49m\u001b[38;5;241;43m.\u001b[39;49m\u001b[43mbackward\u001b[49m\u001b[43m(\u001b[49m\n\u001b[0;32m    526\u001b[0m \u001b[43m    \u001b[49m\u001b[38;5;28;43mself\u001b[39;49m\u001b[43m,\u001b[49m\u001b[43m \u001b[49m\u001b[43mgradient\u001b[49m\u001b[43m,\u001b[49m\u001b[43m \u001b[49m\u001b[43mretain_graph\u001b[49m\u001b[43m,\u001b[49m\u001b[43m \u001b[49m\u001b[43mcreate_graph\u001b[49m\u001b[43m,\u001b[49m\u001b[43m \u001b[49m\u001b[43minputs\u001b[49m\u001b[38;5;241;43m=\u001b[39;49m\u001b[43minputs\u001b[49m\n\u001b[0;32m    527\u001b[0m \u001b[43m\u001b[49m\u001b[43m)\u001b[49m\n",
      "File \u001b[1;32m~\\miniconda3\\envs\\practicas\\lib\\site-packages\\torch\\autograd\\__init__.py:267\u001b[0m, in \u001b[0;36mbackward\u001b[1;34m(tensors, grad_tensors, retain_graph, create_graph, grad_variables, inputs)\u001b[0m\n\u001b[0;32m    262\u001b[0m     retain_graph \u001b[38;5;241m=\u001b[39m create_graph\n\u001b[0;32m    264\u001b[0m \u001b[38;5;66;03m# The reason we repeat the same comment below is that\u001b[39;00m\n\u001b[0;32m    265\u001b[0m \u001b[38;5;66;03m# some Python versions print out the first line of a multi-line function\u001b[39;00m\n\u001b[0;32m    266\u001b[0m \u001b[38;5;66;03m# calls in the traceback and some print out the last line\u001b[39;00m\n\u001b[1;32m--> 267\u001b[0m \u001b[43m_engine_run_backward\u001b[49m\u001b[43m(\u001b[49m\n\u001b[0;32m    268\u001b[0m \u001b[43m    \u001b[49m\u001b[43mtensors\u001b[49m\u001b[43m,\u001b[49m\n\u001b[0;32m    269\u001b[0m \u001b[43m    \u001b[49m\u001b[43mgrad_tensors_\u001b[49m\u001b[43m,\u001b[49m\n\u001b[0;32m    270\u001b[0m \u001b[43m    \u001b[49m\u001b[43mretain_graph\u001b[49m\u001b[43m,\u001b[49m\n\u001b[0;32m    271\u001b[0m \u001b[43m    \u001b[49m\u001b[43mcreate_graph\u001b[49m\u001b[43m,\u001b[49m\n\u001b[0;32m    272\u001b[0m \u001b[43m    \u001b[49m\u001b[43minputs\u001b[49m\u001b[43m,\u001b[49m\n\u001b[0;32m    273\u001b[0m \u001b[43m    \u001b[49m\u001b[43mallow_unreachable\u001b[49m\u001b[38;5;241;43m=\u001b[39;49m\u001b[38;5;28;43;01mTrue\u001b[39;49;00m\u001b[43m,\u001b[49m\n\u001b[0;32m    274\u001b[0m \u001b[43m    \u001b[49m\u001b[43maccumulate_grad\u001b[49m\u001b[38;5;241;43m=\u001b[39;49m\u001b[38;5;28;43;01mTrue\u001b[39;49;00m\u001b[43m,\u001b[49m\n\u001b[0;32m    275\u001b[0m \u001b[43m\u001b[49m\u001b[43m)\u001b[49m\n",
      "File \u001b[1;32m~\\miniconda3\\envs\\practicas\\lib\\site-packages\\torch\\autograd\\graph.py:744\u001b[0m, in \u001b[0;36m_engine_run_backward\u001b[1;34m(t_outputs, *args, **kwargs)\u001b[0m\n\u001b[0;32m    742\u001b[0m     unregister_hooks \u001b[38;5;241m=\u001b[39m _register_logging_hooks_on_whole_graph(t_outputs)\n\u001b[0;32m    743\u001b[0m \u001b[38;5;28;01mtry\u001b[39;00m:\n\u001b[1;32m--> 744\u001b[0m     \u001b[38;5;28;01mreturn\u001b[39;00m Variable\u001b[38;5;241m.\u001b[39m_execution_engine\u001b[38;5;241m.\u001b[39mrun_backward(  \u001b[38;5;66;03m# Calls into the C++ engine to run the backward pass\u001b[39;00m\n\u001b[0;32m    745\u001b[0m         t_outputs, \u001b[38;5;241m*\u001b[39margs, \u001b[38;5;241m*\u001b[39m\u001b[38;5;241m*\u001b[39mkwargs\n\u001b[0;32m    746\u001b[0m     )  \u001b[38;5;66;03m# Calls into the C++ engine to run the backward pass\u001b[39;00m\n\u001b[0;32m    747\u001b[0m \u001b[38;5;28;01mfinally\u001b[39;00m:\n\u001b[0;32m    748\u001b[0m     \u001b[38;5;28;01mif\u001b[39;00m attach_logging_hooks:\n",
      "\u001b[1;31mKeyboardInterrupt\u001b[0m: "
     ]
    }
   ],
   "source": [
    "# Initialize model\n",
    "model = aoi.models.Segmentor(nb_classes=1)\n",
    "\n",
    "# Train\n",
    "model.fit(dataset_imag_train, dataset_imag_test, dataset_labels_train, dataset_labels_test, training_cycles=1000, compute_accuracy=True, swa=True)"
   ]
  }
 ],
 "metadata": {
  "kernelspec": {
   "display_name": "Python 3 (ipykernel)",
   "language": "python",
   "name": "python3"
  },
  "language_info": {
   "codemirror_mode": {
    "name": "ipython",
    "version": 3
   },
   "file_extension": ".py",
   "mimetype": "text/x-python",
   "name": "python",
   "nbconvert_exporter": "python",
   "pygments_lexer": "ipython3",
   "version": "3.9.0"
  }
 },
 "nbformat": 4,
 "nbformat_minor": 5
}
